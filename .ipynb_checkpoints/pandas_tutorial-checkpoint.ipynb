{
 "metadata": {
  "name": "",
  "signature": "sha256:bed24bf4086ca46c78142cde8ec49efbd8f53ffaab8a5ffea42dfe0039e19626"
 },
 "nbformat": 3,
 "nbformat_minor": 0,
 "worksheets": []
}